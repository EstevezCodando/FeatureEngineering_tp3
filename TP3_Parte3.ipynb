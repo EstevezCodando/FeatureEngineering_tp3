{
 "cells": [
  {
   "cell_type": "markdown",
   "id": "f5e884b9",
   "metadata": {},
   "source": [
    "## O que é Feature Hashing?\n",
    "\n",
    "Feature Hashing (também conhecido como Hashing Trick) é uma técnica que transforma variáveis categóricas em vetores numéricos usando uma função de hash para mapear os valores diretamente para índices de um vetor de tamanho fixo.\n",
    "## Características:\n",
    "\n",
    "Evita alta dimensionalidade de One-Hot Encoding em variáveis com muitas categorias.\n",
    "\n",
    "Não requer armazenar nomes de categorias, pois usa apenas a função hash.\n",
    "\n",
    "Pode haver colisões (duas categorias diferentes caindo no mesmo índice), mas isso é aceitável em muitos contextos."
   ]
  },
  {
   "cell_type": "code",
   "execution_count": 3,
   "id": "7bb79a9e",
   "metadata": {},
   "outputs": [
    {
     "name": "stdout",
     "output_type": "stream",
     "text": [
      "     0    1    2    3    4    5    6    7    8    9  Jogar_Tênis\n",
      "0  0.0  0.0  1.0  0.0 -1.0  0.0 -1.0  0.0  0.0 -1.0            0\n",
      "1  0.0  0.0  1.0  0.0 -1.0  0.0  1.0  0.0  0.0 -1.0            0\n",
      "2  0.0  0.0  1.0  0.0  0.0  1.0 -1.0  0.0  0.0 -1.0            1\n",
      "3  0.0  2.0  0.0  0.0  0.0  0.0 -1.0  0.0  0.0 -1.0            1\n",
      "4  0.0  1.0  0.0  0.0 -1.0  0.0 -1.0  0.0  0.0  1.0            1\n"
     ]
    }
   ],
   "source": [
    "#Questão 11\n",
    "\n",
    "import pandas as pd\n",
    "from sklearn.feature_extraction import FeatureHasher\n",
    "\n",
    "# Caminho do arquivo original\n",
    "caminho_entrada = r'C:\\Faculdade\\FeatureAndML\\FeatureEngineering_tp3\\toy_dataset.csv'\n",
    "\n",
    "# Leitura do dataset\n",
    "df = pd.read_csv(caminho_entrada)\n",
    "\n",
    "# Seleção das colunas categóricas (excluindo 'Dia' e 'Jogar Tênis')\n",
    "colunas_categoricas = ['Aspecto', 'Temp.', 'Humidade', 'Vento']\n",
    "\n",
    "# Criação de um dicionário por linha (necessário para FeatureHasher)\n",
    "dados_dict = df[colunas_categoricas].astype(str).to_dict(orient='records')\n",
    "\n",
    "# Inicializa o FeatureHasher com número fixo de features (ex: 10)\n",
    "hasher = FeatureHasher(n_features=10, input_type='dict')\n",
    "X_hashed = hasher.fit_transform(dados_dict)\n",
    "\n",
    "# Converte para DataFrame\n",
    "df_hashed = pd.DataFrame(X_hashed.toarray())\n",
    "df_hashed['Jogar_Tênis'] = df['Jogar Tênis'].map({'Sim': 1, 'Não': 0})\n",
    "\n",
    "# Exibir as 5 primeiras linhas\n",
    "print(df_hashed.head())\n"
   ]
  },
  {
   "cell_type": "markdown",
   "id": "f9d0e0c4",
   "metadata": {},
   "source": [
    "\n",
    "## 📊 Técnica de Codificação: Bin Counting\n",
    "\n",
    "### 📌 Bin Counting\n",
    "\n",
    "Consiste em uma técnica de codificação de variáveis categóricas baseada em contagem. Ela transforma valores categóricos em números inteiros, substituindo cada categoria pela **frequência com que ela aparece** no conjunto de dados.\n",
    "\n",
    "---\n",
    "\n",
    "### ✅ Características:\n",
    "\n",
    "| Característica        | Descrição                                                                 |\n",
    "|------------------------|--------------------------------------------------------------------------|\n",
    "| Simples                | Cada valor categórico vira um número inteiro representando sua frequência. |\n",
    "| Rápido                 | Boa performance computacional, ideal para variáveis com poucas categorias. |\n",
    "| Perda de semântica     | Não diferencia entre os valores das categorias, apenas suas contagens.     |\n",
    "| Pode introduzir viés   | Categorias mais comuns terão maior valor, mesmo que não sejam mais relevantes. |\n",
    "\n",
    "---\n",
    "\n",
    "### 💡 Exemplo com `toy_dataset.csv`\n",
    "\n",
    "Suponha a variável `Aspecto` com os seguintes valores:\n",
    "\n",
    "- `Sol`: aparece 4 vezes → vira **4**  \n",
    "- `Chuva`: aparece 5 vezes → vira **5**  \n",
    "- `Nuvens`: aparece 4 vezes → vira **4**  \n",
    "- `Fresco`: aparece 1 vez → vira **1**  \n",
    "\n",
    "---\n",
    "\n",
    "### 🧪 Quando usar Bin Counting?\n",
    "\n",
    "| ✅ Útil quando:                          | ❌ Evitar quando:                                |\n",
    "|-----------------------------------------|--------------------------------------------------|\n",
    "| Você quer codificar rapidamente         | Há relação semântica importante na categoria     |\n",
    "| Há poucas categorias distintas          | Frequência não representa importância da classe  |"
   ]
  },
  {
   "cell_type": "code",
   "execution_count": 4,
   "id": "44446505",
   "metadata": {},
   "outputs": [
    {
     "name": "stdout",
     "output_type": "stream",
     "text": [
      "   Aspecto_bin  Temp._bin  Humidade_bin  Vento_bin  Jogar_Tênis\n",
      "0            4          4             8          9            0\n",
      "1            4          4             8          5            0\n",
      "2            4          4             8          9            1\n",
      "3            5          6             8          9            1\n",
      "4            5          4             6          9            1\n"
     ]
    }
   ],
   "source": [
    "\n",
    "# Carregar o dataset\n",
    "df = pd.read_csv(caminho_entrada)\n",
    "\n",
    "# Colunas categóricas a aplicar bin counting\n",
    "colunas_categoricas = ['Aspecto', 'Temp.', 'Humidade', 'Vento']\n",
    "\n",
    "# Aplica Bin Counting (substitui categorias por suas contagens)\n",
    "df_bin_count = df.copy()\n",
    "for coluna in colunas_categoricas:\n",
    "    frequencia = df[coluna].value_counts()\n",
    "    df_bin_count[coluna + '_bin'] = df[coluna].map(frequencia)\n",
    "\n",
    "# Mantém a variável alvo como binária\n",
    "df_bin_count['Jogar_Tênis'] = df['Jogar Tênis'].map({'Sim': 1, 'Não': 0})\n",
    "\n",
    "# Remove colunas originais categóricas (opcional)\n",
    "df_bin_count = df_bin_count.drop(columns=colunas_categoricas + ['Dia', 'Jogar Tênis'])\n",
    "\n",
    "# Visualizar resultado\n",
    "print(df_bin_count.head())\n"
   ]
  }
 ],
 "metadata": {
  "kernelspec": {
   "display_name": "Python 3",
   "language": "python",
   "name": "python3"
  },
  "language_info": {
   "codemirror_mode": {
    "name": "ipython",
    "version": 3
   },
   "file_extension": ".py",
   "mimetype": "text/x-python",
   "name": "python",
   "nbconvert_exporter": "python",
   "pygments_lexer": "ipython3",
   "version": "3.13.4"
  }
 },
 "nbformat": 4,
 "nbformat_minor": 5
}
