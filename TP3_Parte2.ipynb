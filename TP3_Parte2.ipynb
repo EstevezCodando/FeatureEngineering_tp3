{
 "cells": [
  {
   "cell_type": "code",
   "execution_count": null,
   "id": "4eb4cbd0",
   "metadata": {},
   "outputs": [
    {
     "name": "stdout",
     "output_type": "stream",
     "text": [
      "Arquivo salvo com sucesso em: C:\\Faculdade\\FeatureAndML\\FeatureEngineering_tp3\\toy_dataset_one_hot.csv\n"
     ]
    }
   ],
   "source": [
    "#Questão 5 \n",
    "#Considerando A tabela vetorizada com One-Hot Encoding\n",
    "# Sim : 1\n",
    "# Não : 0\n",
    "\n",
    "import pandas as pd\n",
    "\n",
    "caminho_entrada = r'C:\\Faculdade\\FeatureAndML\\FeatureEngineering_tp3\\toy_dataset.csv'\n",
    "caminho_saida = r'C:\\Faculdade\\FeatureAndML\\FeatureEngineering_tp3\\toy_dataset_one_hot.csv'\n",
    "\n",
    "df = pd.read_csv(caminho_entrada)\n",
    "\n",
    "# Aplicar One-Hot Encoding nas colunas categóricas (exceto 'Dia' e 'Jogar Tênis')\n",
    "df_one_hot = pd.get_dummies(df.drop(columns=['Dia', 'Jogar Tênis']), prefix_sep='=', dtype=int)\n",
    "\n",
    "df_one_hot['Jogar_Tênis'] = df['Jogar Tênis'].map({'Sim': 1, 'Não': 0})\n",
    "\n",
    "df_one_hot.to_csv(caminho_saida, index=False)\n",
    "\n",
    "print(f\"Arquivo salvo com sucesso em: {caminho_saida}\")\n"
   ]
  },
  {
   "cell_type": "code",
   "execution_count": null,
   "id": "8e76fbdb",
   "metadata": {},
   "outputs": [
    {
     "name": "stdout",
     "output_type": "stream",
     "text": [
      "Arquivo salvo com sucesso em: C:\\Faculdade\\FeatureAndML\\FeatureEngineering_tp3\\toy_dataset_dummy.csv\n"
     ]
    }
   ],
   "source": [
    "#Questão 6\n",
    "caminho_saida = r'C:\\Faculdade\\FeatureAndML\\FeatureEngineering_tp3\\toy_dataset_dummy.csv'\n",
    "df_dummy = pd.get_dummies(df.drop(columns=['Dia', 'Jogar Tênis']), drop_first=True, prefix_sep='=', dtype=int)\n",
    "# Adicionar a variável de saída convertida para numérica (0 = Não, 1 = Sim)\n",
    "df_dummy['Jogar_Tênis'] = df['Jogar Tênis'].map({'Sim': 1, 'Não': 0})\n",
    "\n",
    "# Salvar o resultado em CSV\n",
    "df_dummy.to_csv(caminho_saida, index=False)\n",
    "\n",
    "print(f\"Arquivo salvo com sucesso em: {caminho_saida}\")\n"
   ]
  },
  {
   "cell_type": "code",
   "execution_count": 3,
   "id": "fac96109",
   "metadata": {},
   "outputs": [
    {
     "name": "stdout",
     "output_type": "stream",
     "text": [
      "Arquivo salvo com sucesso em: C:\\Faculdade\\FeatureAndML\\FeatureEngineering_tp3\\toy_dataset_effect.csv\n"
     ]
    }
   ],
   "source": [
    "caminho_saida = r'C:\\Faculdade\\FeatureAndML\\FeatureEngineering_tp3\\toy_dataset_effect.csv'\n",
    "colunas_categoricas = ['Aspecto', 'Temp.', 'Humidade', 'Vento']\n",
    "df_effect = pd.DataFrame()\n",
    "\n",
    "# Aplica Effect Encoding para cada coluna categórica\n",
    "for coluna in colunas_categoricas:\n",
    "    categorias = df[coluna].unique()\n",
    "    referencia = categorias[-1]  # última categoria é a referência (-1)\n",
    "    for cat in categorias[:-1]:  # ignora a última\n",
    "        nova_coluna = f\"{coluna}={cat}\"\n",
    "        df_effect[nova_coluna] = df[coluna].apply(lambda x: 1 if x == cat else (-1 if x == referencia else 0))\n",
    "\n",
    "# Adiciona a variável de saída binária\n",
    "df_effect['Jogar_Tênis'] = df['Jogar Tênis'].map({'Sim': 1, 'Não': 0})\n",
    "\n",
    "# Salva o novo dataset\n",
    "df_effect.to_csv(caminho_saida, index=False)\n",
    "\n",
    "print(f\"Arquivo salvo com sucesso em: {caminho_saida}\")"
   ]
  },
  {
   "cell_type": "markdown",
   "id": "aafd5f7d",
   "metadata": {},
   "source": [
    "## 📊 Tabela Comparativa: Técnicas de Codificação Categórica\n",
    "\n",
    "| Critério                       | One-Hot Encoding                                                | Dummy Encoding                                                   | Effect Encoding (Contraste de Soma)                                      |\n",
    "|-------------------------------|------------------------------------------------------------------|------------------------------------------------------------------|---------------------------------------------------------------------------|\n",
    "| Nº de colunas criadas         | Igual ao nº de categorias                                       | Nº de categorias menos 1                                         | Nº de categorias menos 1                                                 |\n",
    "| Coluna de referência          | Nenhuma (todas as categorias representadas)                     | Sim (a primeira categoria é excluída por padrão)                 | Sim (a última categoria é referência e representada por -1)              |\n",
    "| Valores atribuídos            | 0 ou 1                                                          | 0 ou 1                                                           | 1, 0, ou -1                                                               |\n",
    "| Interpretação estatística     | Fácil para algoritmos preditivos, mas redundante                | Remove multicolinearidade para regressões lineares              | Coeficientes representam diferença em relação à média global             |\n",
    "| Multicolinearidade            | Sim (colunas somam 1 por linha)                                 | Não                                                              | Não                                                                       |\n",
    "| Indicado para                 | Modelos de árvore, redes neurais, etc.                          | Modelos lineares (regressão, etc.)                               | Análises estatísticas com interpretação centrada (ex: ANOVA, regressão)  |\n",
    "| Complexidade interpretativa   | Baixa                                                           | Média                                                            | Alta (requer conhecimento estatístico sobre contrastes e médias)         |\n",
    "\n",
    "### Analise Geral\n",
    "\n",
    "One-Hot Encoding é a técnica mais direta e amplamente usada. \n",
    "Cria colunas binárias independentes para cada categoria. \n",
    "É ideal para algoritmos que não assumem independência linear entre variáveis, como árvores de decisão e redes neurais. \n",
    "Porém, introduz multicolinearidade, o que pode ser um problema em modelos lineares.\n",
    "\n",
    "Dummy Encoding é semelhante ao One-Hot, mas remove uma coluna por variável, eliminando a multicolinearidade. \n",
    "É especialmente útil em regressão linear e logística, onde redundância afeta os coeficientes e seus testes estatísticos.\n",
    "\n",
    "Effect Encoding é menos comum, mas muito poderoso em análises estatísticas. \n",
    "Ao invés de comparar cada categoria com uma referência arbitrária, compara com a média geral, permitindo interpretar os coeficientes como desvios em relação ao efeito médio. \n",
    "É usada principalmente em contextos de modelagem interpretativa, como ANOVA, regressão com contrastes, etc."
   ]
  }
 ],
 "metadata": {
  "kernelspec": {
   "display_name": "Python 3",
   "language": "python",
   "name": "python3"
  },
  "language_info": {
   "codemirror_mode": {
    "name": "ipython",
    "version": 3
   },
   "file_extension": ".py",
   "mimetype": "text/x-python",
   "name": "python",
   "nbconvert_exporter": "python",
   "pygments_lexer": "ipython3",
   "version": "3.13.4"
  }
 },
 "nbformat": 4,
 "nbformat_minor": 5
}
