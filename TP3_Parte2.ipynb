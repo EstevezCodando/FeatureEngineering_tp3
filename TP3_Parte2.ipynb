{
 "cells": [
  {
   "cell_type": "code",
   "execution_count": null,
   "id": "4eb4cbd0",
   "metadata": {},
   "outputs": [],
   "source": [
    "#Questão 1 \n",
    "#Considerando A tabela vetorizada com One-Hot Encoding\n",
    "# Sim : 1\n",
    "# Não : 0"
   ]
  }
 ],
 "metadata": {
  "language_info": {
   "name": "python"
  }
 },
 "nbformat": 4,
 "nbformat_minor": 5
}
